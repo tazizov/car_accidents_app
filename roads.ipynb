{
 "cells": [
  {
   "cell_type": "code",
   "execution_count": 1,
   "metadata": {},
   "outputs": [],
   "source": [
    "import plotly.express as px\n",
    "import pandas as pd\n",
    "import geopandas as gpd\n",
    "import json\n",
    "from shapely.geometry import Point\n",
    "from pprint import pprint\n",
    "import requests\n",
    "import os\n",
    "import glob\n",
    "from tqdm import tqdm"
   ]
  },
  {
   "cell_type": "code",
   "execution_count": 2,
   "metadata": {},
   "outputs": [],
   "source": [
    "data = pd.read_pickle('data/preprocessed/accidents_in_london.pkl')\n",
    "london_poly = gpd.read_file(json.load(open('data/london_poly.json')))\n",
    "data['lat'] = data['geom'].apply(lambda x: x.coords[0][1])\n",
    "data['lon'] = data['geom'].apply(lambda x: x.coords[0][0])"
   ]
  },
  {
   "cell_type": "code",
   "execution_count": null,
   "metadata": {},
   "outputs": [],
   "source": []
  },
  {
   "cell_type": "markdown",
   "metadata": {},
   "source": [
    "### How to plot polys in plotly with mapbox (only polys)"
   ]
  },
  {
   "cell_type": "code",
   "execution_count": 3,
   "metadata": {},
   "outputs": [],
   "source": [
    "center = london_poly['geometry'][0].centroid\n",
    "mapbox_token = 'pk.eyJ1IjoidGF6aXpvdiIsImEiOiJja2o1aTkyaXYweGt2MnZrM3pycW85bjFuIn0.o5E1GoUzcaw88zQuqae-AA'\n",
    "px.set_mapbox_access_token(mapbox_token)"
   ]
  },
  {
   "cell_type": "markdown",
   "metadata": {},
   "source": [
    "Attention! To plot from `geojson` need matching between `locations`\n",
    "column values and `id` in every unit of `geojson` in `FeatureCollection`"
   ]
  },
  {
   "cell_type": "code",
   "execution_count": 5,
   "metadata": {},
   "outputs": [],
   "source": [
    "fig = px.choropleth_mapbox(london_poly,\n",
    "                           locations='id',\n",
    "                           geojson=json.loads(london_poly.to_json()),\n",
    "                           center = {'lat': center.y, 'lon': center.x})"
   ]
  },
  {
   "cell_type": "code",
   "execution_count": 1,
   "metadata": {},
   "outputs": [
    {
     "name": "stdout",
     "output_type": "stream",
     "text": [
      "Object `fig.update_layout` not found.\n"
     ]
    }
   ],
   "source": []
  },
  {
   "cell_type": "markdown",
   "metadata": {},
   "source": [
    "### Roads preprocessing"
   ]
  },
  {
   "cell_type": "code",
   "execution_count": 216,
   "metadata": {},
   "outputs": [],
   "source": [
    "road_shapefiles = glob.glob('./data/oproad_essh_gb/data/*k.shp')\n",
    "\n",
    "result = gpd.read_file(road_shapefiles[0])\n",
    "\n",
    "for i in tqdm(range(1, len(road_shapefiles))):\n",
    "    result = result.append(gpd.read_file(road_shapefiles[i]), ignore_index=True)"
   ]
  },
  {
   "cell_type": "code",
   "execution_count": 239,
   "metadata": {},
   "outputs": [],
   "source": [
    "result = result.to_crs(epsg=4326)\n",
    "\n",
    "result['is_in_london'] = result['geometry'].apply(lambda x: london_poly['geometry'][0].intersects(x))\n",
    "\n",
    "london_roads_result = result[result['is_in_london']]\n",
    "\n",
    "london_roads_result.info()"
   ]
  },
  {
   "cell_type": "code",
   "execution_count": 245,
   "metadata": {},
   "outputs": [],
   "source": [
    "london_roads_result = london_roads_result.dropna(axis=1)\n",
    "\n",
    "london_roads_result = london_roads_result.drop(columns=['startNode', 'endNode', 'function', 'identifier'])\n",
    "\n",
    "london_roads_result = london_roads_result.reset_index(drop=True)"
   ]
  },
  {
   "cell_type": "code",
   "execution_count": 257,
   "metadata": {},
   "outputs": [],
   "source": [
    "london_roads_result_js = london_roads_result.to_json()\n",
    "\n",
    "with open('./data/london_roads.json', 'w') as fo:\n",
    "    fo.write(json.dumps(london_roads_result_js))"
   ]
  }
 ],
 "metadata": {
  "kernelspec": {
   "display_name": "Python 3",
   "language": "python",
   "name": "python3"
  },
  "language_info": {
   "codemirror_mode": {
    "name": "ipython",
    "version": 3
   },
   "file_extension": ".py",
   "mimetype": "text/x-python",
   "name": "python",
   "nbconvert_exporter": "python",
   "pygments_lexer": "ipython3",
   "version": "3.7.4"
  }
 },
 "nbformat": 4,
 "nbformat_minor": 4
}

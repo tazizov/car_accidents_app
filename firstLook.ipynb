{
 "cells": [
  {
   "cell_type": "code",
   "execution_count": 1,
   "metadata": {},
   "outputs": [
    {
     "data": {
      "text/plain": [
       "['.gitattributes', 'Accidents0515.csv', 'london_poly.json', 'preprocessed']"
      ]
     },
     "execution_count": 1,
     "metadata": {},
     "output_type": "execute_result"
    }
   ],
   "source": [
    "import os\n",
    "import pandas as pd\n",
    "import geopandas as gpd\n",
    "import json\n",
    "from shapely.geometry import Polygon, Point\n",
    "pd.set_option('display.max_columns', None)\n",
    "os.listdir('./data/')"
   ]
  },
  {
   "cell_type": "code",
   "execution_count": 2,
   "metadata": {},
   "outputs": [],
   "source": [
    "accidents = pd.read_csv('./data/Accidents0515.csv')"
   ]
  },
  {
   "cell_type": "code",
   "execution_count": 3,
   "metadata": {},
   "outputs": [
    {
     "data": {
      "text/plain": [
       "Accident_Index                                      0\n",
       "Location_Easting_OSGR                             138\n",
       "Location_Northing_OSGR                            138\n",
       "Longitude                                         138\n",
       "Latitude                                          138\n",
       "Police_Force                                        0\n",
       "Accident_Severity                                   0\n",
       "Number_of_Vehicles                                  0\n",
       "Number_of_Casualties                                0\n",
       "Date                                                0\n",
       "Day_of_Week                                         0\n",
       "Time                                              151\n",
       "Local_Authority_(District)                          0\n",
       "Local_Authority_(Highway)                           0\n",
       "1st_Road_Class                                      0\n",
       "1st_Road_Number                                     0\n",
       "Road_Type                                           0\n",
       "Speed_limit                                         0\n",
       "Junction_Detail                                     0\n",
       "Junction_Control                                    0\n",
       "2nd_Road_Class                                      0\n",
       "2nd_Road_Number                                     0\n",
       "Pedestrian_Crossing-Human_Control                   0\n",
       "Pedestrian_Crossing-Physical_Facilities             0\n",
       "Light_Conditions                                    0\n",
       "Weather_Conditions                                  0\n",
       "Road_Surface_Conditions                             0\n",
       "Special_Conditions_at_Site                          0\n",
       "Carriageway_Hazards                                 0\n",
       "Urban_or_Rural_Area                                 0\n",
       "Did_Police_Officer_Attend_Scene_of_Accident         0\n",
       "LSOA_of_Accident_Location                      129471\n",
       "dtype: int64"
      ]
     },
     "execution_count": 3,
     "metadata": {},
     "output_type": "execute_result"
    }
   ],
   "source": [
    "# there is one column with many nan values\n",
    "# since we do not know if this columns useful or not --> fill na with 'unknown' string\n",
    "accidents.isna().sum(axis=0)"
   ]
  },
  {
   "cell_type": "code",
   "execution_count": 4,
   "metadata": {},
   "outputs": [],
   "source": [
    "accidents['LSOA_of_Accident_Location'].fillna('unknown', inplace=True)\n",
    "accidents.dropna(inplace=True)\n",
    "\n",
    "# drom features which we will not know in the new data\n",
    "columns_to_drop = [\n",
    "    'Accident_Index',\n",
    "    'Accident_Severity',\n",
    "    'Did_Police_Officer_Attend_Scene_of_Accident',\n",
    "    'Number_of_Casualties',\n",
    "    'Number_of_Vehicles',\n",
    "    'Police_Force',\n",
    "]\n",
    "accidents.drop(columns=columns_to_drop, inplace=True)"
   ]
  },
  {
   "cell_type": "code",
   "execution_count": 5,
   "metadata": {},
   "outputs": [],
   "source": [
    "with open('./data/london_poly.json') as json_fin:\n",
    "    js_line = json_fin.read()\n",
    "london_gdf = gpd.read_file(json.loads(js_line))\n",
    "london_poly = london_gdf['geometry'][0]"
   ]
  },
  {
   "cell_type": "code",
   "execution_count": 6,
   "metadata": {},
   "outputs": [
    {
     "data": {
      "text/html": [
       "<div>\n",
       "<style scoped>\n",
       "    .dataframe tbody tr th:only-of-type {\n",
       "        vertical-align: middle;\n",
       "    }\n",
       "\n",
       "    .dataframe tbody tr th {\n",
       "        vertical-align: top;\n",
       "    }\n",
       "\n",
       "    .dataframe thead th {\n",
       "        text-align: right;\n",
       "    }\n",
       "</style>\n",
       "<table border=\"1\" class=\"dataframe\">\n",
       "  <thead>\n",
       "    <tr style=\"text-align: right;\">\n",
       "      <th></th>\n",
       "      <th>Date</th>\n",
       "      <th>Day_of_Week</th>\n",
       "      <th>Time</th>\n",
       "    </tr>\n",
       "  </thead>\n",
       "  <tbody>\n",
       "    <tr>\n",
       "      <th>0</th>\n",
       "      <td>04/01/2005</td>\n",
       "      <td>3</td>\n",
       "      <td>17:42</td>\n",
       "    </tr>\n",
       "    <tr>\n",
       "      <th>1</th>\n",
       "      <td>05/01/2005</td>\n",
       "      <td>4</td>\n",
       "      <td>17:36</td>\n",
       "    </tr>\n",
       "    <tr>\n",
       "      <th>2</th>\n",
       "      <td>06/01/2005</td>\n",
       "      <td>5</td>\n",
       "      <td>00:15</td>\n",
       "    </tr>\n",
       "    <tr>\n",
       "      <th>3</th>\n",
       "      <td>07/01/2005</td>\n",
       "      <td>6</td>\n",
       "      <td>10:35</td>\n",
       "    </tr>\n",
       "    <tr>\n",
       "      <th>4</th>\n",
       "      <td>10/01/2005</td>\n",
       "      <td>2</td>\n",
       "      <td>21:13</td>\n",
       "    </tr>\n",
       "    <tr>\n",
       "      <th>...</th>\n",
       "      <td>...</td>\n",
       "      <td>...</td>\n",
       "      <td>...</td>\n",
       "    </tr>\n",
       "    <tr>\n",
       "      <th>1780648</th>\n",
       "      <td>11/12/2015</td>\n",
       "      <td>6</td>\n",
       "      <td>13:24</td>\n",
       "    </tr>\n",
       "    <tr>\n",
       "      <th>1780649</th>\n",
       "      <td>02/12/2015</td>\n",
       "      <td>4</td>\n",
       "      <td>13:50</td>\n",
       "    </tr>\n",
       "    <tr>\n",
       "      <th>1780650</th>\n",
       "      <td>23/12/2015</td>\n",
       "      <td>4</td>\n",
       "      <td>00:01</td>\n",
       "    </tr>\n",
       "    <tr>\n",
       "      <th>1780651</th>\n",
       "      <td>26/12/2015</td>\n",
       "      <td>7</td>\n",
       "      <td>12:40</td>\n",
       "    </tr>\n",
       "    <tr>\n",
       "      <th>1780652</th>\n",
       "      <td>31/12/2015</td>\n",
       "      <td>5</td>\n",
       "      <td>16:37</td>\n",
       "    </tr>\n",
       "  </tbody>\n",
       "</table>\n",
       "<p>1780364 rows × 3 columns</p>\n",
       "</div>"
      ],
      "text/plain": [
       "               Date  Day_of_Week   Time\n",
       "0        04/01/2005            3  17:42\n",
       "1        05/01/2005            4  17:36\n",
       "2        06/01/2005            5  00:15\n",
       "3        07/01/2005            6  10:35\n",
       "4        10/01/2005            2  21:13\n",
       "...             ...          ...    ...\n",
       "1780648  11/12/2015            6  13:24\n",
       "1780649  02/12/2015            4  13:50\n",
       "1780650  23/12/2015            4  00:01\n",
       "1780651  26/12/2015            7  12:40\n",
       "1780652  31/12/2015            5  16:37\n",
       "\n",
       "[1780364 rows x 3 columns]"
      ]
     },
     "execution_count": 6,
     "metadata": {},
     "output_type": "execute_result"
    }
   ],
   "source": [
    "accidents[['Date', 'Day_of_Week', 'Time']]"
   ]
  },
  {
   "cell_type": "code",
   "execution_count": 7,
   "metadata": {},
   "outputs": [
    {
     "data": {
      "text/html": [
       "<div>\n",
       "<style scoped>\n",
       "    .dataframe tbody tr th:only-of-type {\n",
       "        vertical-align: middle;\n",
       "    }\n",
       "\n",
       "    .dataframe tbody tr th {\n",
       "        vertical-align: top;\n",
       "    }\n",
       "\n",
       "    .dataframe thead th {\n",
       "        text-align: right;\n",
       "    }\n",
       "</style>\n",
       "<table border=\"1\" class=\"dataframe\">\n",
       "  <thead>\n",
       "    <tr style=\"text-align: right;\">\n",
       "      <th></th>\n",
       "      <th>Location_Easting_OSGR</th>\n",
       "      <th>Location_Northing_OSGR</th>\n",
       "      <th>Longitude</th>\n",
       "      <th>Latitude</th>\n",
       "      <th>Date</th>\n",
       "      <th>Day_of_Week</th>\n",
       "      <th>Time</th>\n",
       "      <th>Local_Authority_(District)</th>\n",
       "      <th>Local_Authority_(Highway)</th>\n",
       "      <th>1st_Road_Class</th>\n",
       "      <th>1st_Road_Number</th>\n",
       "      <th>Road_Type</th>\n",
       "      <th>Speed_limit</th>\n",
       "      <th>Junction_Detail</th>\n",
       "      <th>Junction_Control</th>\n",
       "      <th>2nd_Road_Class</th>\n",
       "      <th>2nd_Road_Number</th>\n",
       "      <th>Pedestrian_Crossing-Human_Control</th>\n",
       "      <th>Pedestrian_Crossing-Physical_Facilities</th>\n",
       "      <th>Light_Conditions</th>\n",
       "      <th>Weather_Conditions</th>\n",
       "      <th>Road_Surface_Conditions</th>\n",
       "      <th>Special_Conditions_at_Site</th>\n",
       "      <th>Carriageway_Hazards</th>\n",
       "      <th>Urban_or_Rural_Area</th>\n",
       "      <th>LSOA_of_Accident_Location</th>\n",
       "    </tr>\n",
       "  </thead>\n",
       "  <tbody>\n",
       "    <tr>\n",
       "      <th>0</th>\n",
       "      <td>525680.0</td>\n",
       "      <td>178240.0</td>\n",
       "      <td>-0.191170</td>\n",
       "      <td>51.489096</td>\n",
       "      <td>04/01/2005</td>\n",
       "      <td>3</td>\n",
       "      <td>17:42</td>\n",
       "      <td>12</td>\n",
       "      <td>E09000020</td>\n",
       "      <td>3</td>\n",
       "      <td>3218</td>\n",
       "      <td>6</td>\n",
       "      <td>30</td>\n",
       "      <td>0</td>\n",
       "      <td>-1</td>\n",
       "      <td>-1</td>\n",
       "      <td>0</td>\n",
       "      <td>0</td>\n",
       "      <td>1</td>\n",
       "      <td>1</td>\n",
       "      <td>2</td>\n",
       "      <td>2</td>\n",
       "      <td>0</td>\n",
       "      <td>0</td>\n",
       "      <td>1</td>\n",
       "      <td>E01002849</td>\n",
       "    </tr>\n",
       "    <tr>\n",
       "      <th>1</th>\n",
       "      <td>524170.0</td>\n",
       "      <td>181650.0</td>\n",
       "      <td>-0.211708</td>\n",
       "      <td>51.520075</td>\n",
       "      <td>05/01/2005</td>\n",
       "      <td>4</td>\n",
       "      <td>17:36</td>\n",
       "      <td>12</td>\n",
       "      <td>E09000020</td>\n",
       "      <td>4</td>\n",
       "      <td>450</td>\n",
       "      <td>3</td>\n",
       "      <td>30</td>\n",
       "      <td>6</td>\n",
       "      <td>2</td>\n",
       "      <td>5</td>\n",
       "      <td>0</td>\n",
       "      <td>0</td>\n",
       "      <td>5</td>\n",
       "      <td>4</td>\n",
       "      <td>1</td>\n",
       "      <td>1</td>\n",
       "      <td>0</td>\n",
       "      <td>0</td>\n",
       "      <td>1</td>\n",
       "      <td>E01002909</td>\n",
       "    </tr>\n",
       "    <tr>\n",
       "      <th>2</th>\n",
       "      <td>524520.0</td>\n",
       "      <td>182240.0</td>\n",
       "      <td>-0.206458</td>\n",
       "      <td>51.525301</td>\n",
       "      <td>06/01/2005</td>\n",
       "      <td>5</td>\n",
       "      <td>00:15</td>\n",
       "      <td>12</td>\n",
       "      <td>E09000020</td>\n",
       "      <td>5</td>\n",
       "      <td>0</td>\n",
       "      <td>6</td>\n",
       "      <td>30</td>\n",
       "      <td>0</td>\n",
       "      <td>-1</td>\n",
       "      <td>-1</td>\n",
       "      <td>0</td>\n",
       "      <td>0</td>\n",
       "      <td>0</td>\n",
       "      <td>4</td>\n",
       "      <td>1</td>\n",
       "      <td>1</td>\n",
       "      <td>0</td>\n",
       "      <td>0</td>\n",
       "      <td>1</td>\n",
       "      <td>E01002857</td>\n",
       "    </tr>\n",
       "    <tr>\n",
       "      <th>3</th>\n",
       "      <td>526900.0</td>\n",
       "      <td>177530.0</td>\n",
       "      <td>-0.173862</td>\n",
       "      <td>51.482442</td>\n",
       "      <td>07/01/2005</td>\n",
       "      <td>6</td>\n",
       "      <td>10:35</td>\n",
       "      <td>12</td>\n",
       "      <td>E09000020</td>\n",
       "      <td>3</td>\n",
       "      <td>3220</td>\n",
       "      <td>6</td>\n",
       "      <td>30</td>\n",
       "      <td>0</td>\n",
       "      <td>-1</td>\n",
       "      <td>-1</td>\n",
       "      <td>0</td>\n",
       "      <td>0</td>\n",
       "      <td>0</td>\n",
       "      <td>1</td>\n",
       "      <td>1</td>\n",
       "      <td>1</td>\n",
       "      <td>0</td>\n",
       "      <td>0</td>\n",
       "      <td>1</td>\n",
       "      <td>E01002840</td>\n",
       "    </tr>\n",
       "    <tr>\n",
       "      <th>4</th>\n",
       "      <td>528060.0</td>\n",
       "      <td>179040.0</td>\n",
       "      <td>-0.156618</td>\n",
       "      <td>51.495752</td>\n",
       "      <td>10/01/2005</td>\n",
       "      <td>2</td>\n",
       "      <td>21:13</td>\n",
       "      <td>12</td>\n",
       "      <td>E09000020</td>\n",
       "      <td>6</td>\n",
       "      <td>0</td>\n",
       "      <td>6</td>\n",
       "      <td>30</td>\n",
       "      <td>0</td>\n",
       "      <td>-1</td>\n",
       "      <td>-1</td>\n",
       "      <td>0</td>\n",
       "      <td>0</td>\n",
       "      <td>0</td>\n",
       "      <td>7</td>\n",
       "      <td>1</td>\n",
       "      <td>2</td>\n",
       "      <td>0</td>\n",
       "      <td>0</td>\n",
       "      <td>1</td>\n",
       "      <td>E01002863</td>\n",
       "    </tr>\n",
       "  </tbody>\n",
       "</table>\n",
       "</div>"
      ],
      "text/plain": [
       "   Location_Easting_OSGR  Location_Northing_OSGR  Longitude   Latitude  \\\n",
       "0               525680.0                178240.0  -0.191170  51.489096   \n",
       "1               524170.0                181650.0  -0.211708  51.520075   \n",
       "2               524520.0                182240.0  -0.206458  51.525301   \n",
       "3               526900.0                177530.0  -0.173862  51.482442   \n",
       "4               528060.0                179040.0  -0.156618  51.495752   \n",
       "\n",
       "         Date  Day_of_Week   Time  Local_Authority_(District)  \\\n",
       "0  04/01/2005            3  17:42                          12   \n",
       "1  05/01/2005            4  17:36                          12   \n",
       "2  06/01/2005            5  00:15                          12   \n",
       "3  07/01/2005            6  10:35                          12   \n",
       "4  10/01/2005            2  21:13                          12   \n",
       "\n",
       "  Local_Authority_(Highway)  1st_Road_Class  1st_Road_Number  Road_Type  \\\n",
       "0                 E09000020               3             3218          6   \n",
       "1                 E09000020               4              450          3   \n",
       "2                 E09000020               5                0          6   \n",
       "3                 E09000020               3             3220          6   \n",
       "4                 E09000020               6                0          6   \n",
       "\n",
       "   Speed_limit  Junction_Detail  Junction_Control  2nd_Road_Class  \\\n",
       "0           30                0                -1              -1   \n",
       "1           30                6                 2               5   \n",
       "2           30                0                -1              -1   \n",
       "3           30                0                -1              -1   \n",
       "4           30                0                -1              -1   \n",
       "\n",
       "   2nd_Road_Number  Pedestrian_Crossing-Human_Control  \\\n",
       "0                0                                  0   \n",
       "1                0                                  0   \n",
       "2                0                                  0   \n",
       "3                0                                  0   \n",
       "4                0                                  0   \n",
       "\n",
       "   Pedestrian_Crossing-Physical_Facilities  Light_Conditions  \\\n",
       "0                                        1                 1   \n",
       "1                                        5                 4   \n",
       "2                                        0                 4   \n",
       "3                                        0                 1   \n",
       "4                                        0                 7   \n",
       "\n",
       "   Weather_Conditions  Road_Surface_Conditions  Special_Conditions_at_Site  \\\n",
       "0                   2                        2                           0   \n",
       "1                   1                        1                           0   \n",
       "2                   1                        1                           0   \n",
       "3                   1                        1                           0   \n",
       "4                   1                        2                           0   \n",
       "\n",
       "   Carriageway_Hazards  Urban_or_Rural_Area LSOA_of_Accident_Location  \n",
       "0                    0                    1                 E01002849  \n",
       "1                    0                    1                 E01002909  \n",
       "2                    0                    1                 E01002857  \n",
       "3                    0                    1                 E01002840  \n",
       "4                    0                    1                 E01002863  "
      ]
     },
     "execution_count": 7,
     "metadata": {},
     "output_type": "execute_result"
    }
   ],
   "source": [
    "accidents.head()"
   ]
  },
  {
   "cell_type": "code",
   "execution_count": 8,
   "metadata": {},
   "outputs": [],
   "source": [
    "accidents['datetime'] = pd.to_datetime(accidents['Date'] + '/' + accidents['Time'])"
   ]
  },
  {
   "cell_type": "code",
   "execution_count": 9,
   "metadata": {},
   "outputs": [
    {
     "name": "stdout",
     "output_type": "stream",
     "text": [
      "<class 'pandas.core.frame.DataFrame'>\n",
      "Int64Index: 1780364 entries, 0 to 1780652\n",
      "Data columns (total 27 columns):\n",
      " #   Column                                   Dtype         \n",
      "---  ------                                   -----         \n",
      " 0   Location_Easting_OSGR                    float64       \n",
      " 1   Location_Northing_OSGR                   float64       \n",
      " 2   Longitude                                float64       \n",
      " 3   Latitude                                 float64       \n",
      " 4   Date                                     object        \n",
      " 5   Day_of_Week                              int64         \n",
      " 6   Time                                     object        \n",
      " 7   Local_Authority_(District)               int64         \n",
      " 8   Local_Authority_(Highway)                object        \n",
      " 9   1st_Road_Class                           int64         \n",
      " 10  1st_Road_Number                          int64         \n",
      " 11  Road_Type                                int64         \n",
      " 12  Speed_limit                              int64         \n",
      " 13  Junction_Detail                          int64         \n",
      " 14  Junction_Control                         int64         \n",
      " 15  2nd_Road_Class                           int64         \n",
      " 16  2nd_Road_Number                          int64         \n",
      " 17  Pedestrian_Crossing-Human_Control        int64         \n",
      " 18  Pedestrian_Crossing-Physical_Facilities  int64         \n",
      " 19  Light_Conditions                         int64         \n",
      " 20  Weather_Conditions                       int64         \n",
      " 21  Road_Surface_Conditions                  int64         \n",
      " 22  Special_Conditions_at_Site               int64         \n",
      " 23  Carriageway_Hazards                      int64         \n",
      " 24  Urban_or_Rural_Area                      int64         \n",
      " 25  LSOA_of_Accident_Location                object        \n",
      " 26  datetime                                 datetime64[ns]\n",
      "dtypes: datetime64[ns](1), float64(4), int64(18), object(4)\n",
      "memory usage: 380.3+ MB\n"
     ]
    }
   ],
   "source": [
    "accidents.info()"
   ]
  },
  {
   "cell_type": "code",
   "execution_count": 10,
   "metadata": {},
   "outputs": [
    {
     "data": {
      "text/html": [
       "<div>\n",
       "<style scoped>\n",
       "    .dataframe tbody tr th:only-of-type {\n",
       "        vertical-align: middle;\n",
       "    }\n",
       "\n",
       "    .dataframe tbody tr th {\n",
       "        vertical-align: top;\n",
       "    }\n",
       "\n",
       "    .dataframe thead th {\n",
       "        text-align: right;\n",
       "    }\n",
       "</style>\n",
       "<table border=\"1\" class=\"dataframe\">\n",
       "  <thead>\n",
       "    <tr style=\"text-align: right;\">\n",
       "      <th></th>\n",
       "      <th>id</th>\n",
       "      <th>geometry</th>\n",
       "    </tr>\n",
       "  </thead>\n",
       "  <tbody>\n",
       "    <tr>\n",
       "      <th>0</th>\n",
       "      <td>0</td>\n",
       "      <td>POLYGON ((-0.51038 51.46809, -0.51036 51.46795...</td>\n",
       "    </tr>\n",
       "  </tbody>\n",
       "</table>\n",
       "</div>"
      ],
      "text/plain": [
       "  id                                           geometry\n",
       "0  0  POLYGON ((-0.51038 51.46809, -0.51036 51.46795..."
      ]
     },
     "execution_count": 10,
     "metadata": {},
     "output_type": "execute_result"
    }
   ],
   "source": [
    "london_gdf"
   ]
  },
  {
   "cell_type": "code",
   "execution_count": 11,
   "metadata": {},
   "outputs": [],
   "source": [
    "accidents['geom'] = accidents.apply(lambda x: Point(x['Longitude'], x['Latitude']), axis=1)"
   ]
  },
  {
   "cell_type": "code",
   "execution_count": 12,
   "metadata": {},
   "outputs": [],
   "source": [
    "accidents['in_london'] = accidents['geom'].apply(lambda x: x.intersects(london_poly))"
   ]
  },
  {
   "cell_type": "code",
   "execution_count": 13,
   "metadata": {},
   "outputs": [],
   "source": [
    "columns_to_drop = [\n",
    "    'Date', 'Time', \n",
    "    # 'Longitude', 'Latitude'\n",
    "                  ]\n",
    "accidents.drop(columns=columns_to_drop, inplace=True)"
   ]
  },
  {
   "cell_type": "code",
   "execution_count": 14,
   "metadata": {},
   "outputs": [],
   "source": [
    "accidents_filtered = accidents[accidents['in_london']].drop(columns=['in_london'])"
   ]
  },
  {
   "cell_type": "code",
   "execution_count": 21,
   "metadata": {},
   "outputs": [
    {
     "data": {
      "text/plain": [
       "51.28906"
      ]
     },
     "execution_count": 21,
     "metadata": {},
     "output_type": "execute_result"
    }
   ],
   "source": [
    "accidents_filtered['Latitude'].min()"
   ]
  },
  {
   "cell_type": "code",
   "execution_count": null,
   "metadata": {},
   "outputs": [],
   "source": [
    "def get_lat_lon_mult():\n",
    "    return (1.001 - 0.999) * np.random.random_sample() + 0.999 # about 100 meters shift"
   ]
  },
  {
   "cell_type": "code",
   "execution_count": 16,
   "metadata": {},
   "outputs": [
    {
     "data": {
      "text/plain": [
       "(268435, 26)"
      ]
     },
     "execution_count": 16,
     "metadata": {},
     "output_type": "execute_result"
    }
   ],
   "source": [
    "for row in accidents_filtered.iterrows():\n",
    "    for _ in range(3):\n",
    "        new_lat = row['Latitude'] * get_lat_lon_mult()\n",
    "#         new_lon = row['Lon'] * get_lat_lon_mult()"
   ]
  },
  {
   "cell_type": "code",
   "execution_count": null,
   "metadata": {},
   "outputs": [],
   "source": [
    "accidents_filtered.to_pickle('./data/preprocessed/accidents_in_london.pkl')"
   ]
  }
 ],
 "metadata": {
  "kernelspec": {
   "display_name": "Python 3",
   "language": "python",
   "name": "python3"
  },
  "language_info": {
   "codemirror_mode": {
    "name": "ipython",
    "version": 3
   },
   "file_extension": ".py",
   "mimetype": "text/x-python",
   "name": "python",
   "nbconvert_exporter": "python",
   "pygments_lexer": "ipython3",
   "version": "3.8.5"
  }
 },
 "nbformat": 4,
 "nbformat_minor": 4
}
